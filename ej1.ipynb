{
 "cells": [
  {
   "cell_type": "code",
   "execution_count": 17,
   "metadata": {},
   "outputs": [],
   "source": [
    "#from PyPDF2 import PdfFileMerger\n",
    "from PyPDF2 import PdfMerger\n",
    "#from PyPDF2 import PdfFileReader\n",
    "from PyPDF2 import PdfReader\n",
    "import os"
   ]
  },
  {
   "cell_type": "code",
   "execution_count": 12,
   "metadata": {},
   "outputs": [
    {
     "data": {
      "text/plain": [
       "['CNS_SOLICITUD_INCORPORACIÓN_SEG_COLECTIVOS_Fabian_Medina.pdf',\n",
       " 'fabian ignacio Medina - 2024-04-03.pdf',\n",
       " 'formulario_tesis_digital_usm.pdf']"
      ]
     },
     "execution_count": 12,
     "metadata": {},
     "output_type": "execute_result"
    }
   ],
   "source": [
    "listapdf= os.listdir(\"carpetapdf\")\n",
    "listapdf"
   ]
  },
  {
   "cell_type": "code",
   "execution_count": 28,
   "metadata": {},
   "outputs": [],
   "source": [
    "merger= PdfMerger()\n",
    "\n",
    "for file in listapdf:\n",
    "    #merger.append(PdfReader(\"/carpetapdf/ \" +file ) )\n",
    "     path = os.path.join(\"carpetapdf\", file)\n",
    "     merger.append(PdfReader(path))\n",
    "merger.write(\"Pdffinal.pdf\")    \n"
   ]
  }
 ],
 "metadata": {
  "kernelspec": {
   "display_name": "Python 3",
   "language": "python",
   "name": "python3"
  },
  "language_info": {
   "codemirror_mode": {
    "name": "ipython",
    "version": 3
   },
   "file_extension": ".py",
   "mimetype": "text/x-python",
   "name": "python",
   "nbconvert_exporter": "python",
   "pygments_lexer": "ipython3",
   "version": "3.8.4"
  }
 },
 "nbformat": 4,
 "nbformat_minor": 2
}
